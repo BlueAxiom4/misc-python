{
 "cells": [
  {
   "cell_type": "code",
   "execution_count": 2,
   "metadata": {
    "collapsed": true
   },
   "outputs": [],
   "source": [
    "import pandas as pd"
   ]
  },
  {
   "cell_type": "code",
   "execution_count": 8,
   "metadata": {
    "collapsed": false
   },
   "outputs": [],
   "source": [
    "df = pd.read_json(\"https://data.cityofchicago.org/resource/9rg7-mz9y.json\")"
   ]
  },
  {
   "cell_type": "code",
   "execution_count": 10,
   "metadata": {
    "collapsed": false
   },
   "outputs": [
    {
     "data": {
      "text/html": [
       "<div>\n",
       "<table border=\"1\" class=\"dataframe\">\n",
       "  <thead>\n",
       "    <tr style=\"text-align: right;\">\n",
       "      <th></th>\n",
       "      <th>:@computed_region_43wa_7qmu</th>\n",
       "      <th>:@computed_region_6mkv_f3dw</th>\n",
       "      <th>:@computed_region_awaf_s7ux</th>\n",
       "      <th>:@computed_region_bdys_3d7i</th>\n",
       "      <th>:@computed_region_vrxf_vc4k</th>\n",
       "      <th>address</th>\n",
       "      <th>city</th>\n",
       "      <th>district</th>\n",
       "      <th>district_name</th>\n",
       "      <th>fax</th>\n",
       "      <th>latitude</th>\n",
       "      <th>location</th>\n",
       "      <th>longitude</th>\n",
       "      <th>phone</th>\n",
       "      <th>state</th>\n",
       "      <th>tty</th>\n",
       "      <th>website</th>\n",
       "      <th>x_coordinate</th>\n",
       "      <th>y_coordinate</th>\n",
       "      <th>zip</th>\n",
       "    </tr>\n",
       "  </thead>\n",
       "  <tbody>\n",
       "    <tr>\n",
       "      <th>0</th>\n",
       "      <td>9</td>\n",
       "      <td>21194</td>\n",
       "      <td>12</td>\n",
       "      <td>330</td>\n",
       "      <td>34</td>\n",
       "      <td>1718 S State St</td>\n",
       "      <td>Chicago</td>\n",
       "      <td>1</td>\n",
       "      <td>Central</td>\n",
       "      <td>312-745-3694</td>\n",
       "      <td>41.858373</td>\n",
       "      <td>{'type': 'Point', 'coordinates': [-87.627356, ...</td>\n",
       "      <td>-87.627356</td>\n",
       "      <td>312-745-4290</td>\n",
       "      <td>IL</td>\n",
       "      <td>312-745-3693</td>\n",
       "      <td>http://home.chicagopolice.org/community/distri...</td>\n",
       "      <td>1176569.052</td>\n",
       "      <td>1891771.704</td>\n",
       "      <td>60616</td>\n",
       "    </tr>\n",
       "    <tr>\n",
       "      <th>1</th>\n",
       "      <td>7</td>\n",
       "      <td>22216</td>\n",
       "      <td>52</td>\n",
       "      <td>67</td>\n",
       "      <td>26</td>\n",
       "      <td>5701 W Madison St</td>\n",
       "      <td>Chicago</td>\n",
       "      <td>15</td>\n",
       "      <td>Austin</td>\n",
       "      <td>312-743-1366</td>\n",
       "      <td>41.880083</td>\n",
       "      <td>{'type': 'Point', 'coordinates': [-87.7682, 41...</td>\n",
       "      <td>-87.768200</td>\n",
       "      <td>312-743-1440</td>\n",
       "      <td>IL</td>\n",
       "      <td>312-743-1485</td>\n",
       "      <td>http://home.chicagopolice.org/community/distri...</td>\n",
       "      <td>1138148.815</td>\n",
       "      <td>1899399.078</td>\n",
       "      <td>60644</td>\n",
       "    </tr>\n",
       "  </tbody>\n",
       "</table>\n",
       "</div>"
      ],
      "text/plain": [
       "   :@computed_region_43wa_7qmu  :@computed_region_6mkv_f3dw  \\\n",
       "0                            9                        21194   \n",
       "1                            7                        22216   \n",
       "\n",
       "   :@computed_region_awaf_s7ux  :@computed_region_bdys_3d7i  \\\n",
       "0                           12                          330   \n",
       "1                           52                           67   \n",
       "\n",
       "   :@computed_region_vrxf_vc4k            address     city district  \\\n",
       "0                           34    1718 S State St  Chicago        1   \n",
       "1                           26  5701 W Madison St  Chicago       15   \n",
       "\n",
       "  district_name           fax   latitude  \\\n",
       "0       Central  312-745-3694  41.858373   \n",
       "1        Austin  312-743-1366  41.880083   \n",
       "\n",
       "                                            location  longitude         phone  \\\n",
       "0  {'type': 'Point', 'coordinates': [-87.627356, ... -87.627356  312-745-4290   \n",
       "1  {'type': 'Point', 'coordinates': [-87.7682, 41... -87.768200  312-743-1440   \n",
       "\n",
       "  state           tty                                            website  \\\n",
       "0    IL  312-745-3693  http://home.chicagopolice.org/community/distri...   \n",
       "1    IL  312-743-1485  http://home.chicagopolice.org/community/distri...   \n",
       "\n",
       "   x_coordinate  y_coordinate    zip  \n",
       "0   1176569.052   1891771.704  60616  \n",
       "1   1138148.815   1899399.078  60644  "
      ]
     },
     "execution_count": 10,
     "metadata": {},
     "output_type": "execute_result"
    }
   ],
   "source": [
    "df.head(2)"
   ]
  },
  {
   "cell_type": "code",
   "execution_count": null,
   "metadata": {
    "collapsed": true
   },
   "outputs": [],
   "source": []
  },
  {
   "cell_type": "code",
   "execution_count": null,
   "metadata": {
    "collapsed": true
   },
   "outputs": [],
   "source": []
  }
 ],
 "metadata": {
  "kernelspec": {
   "display_name": "Python 3",
   "language": "python",
   "name": "python3"
  },
  "language_info": {
   "codemirror_mode": {
    "name": "ipython",
    "version": 3
   },
   "file_extension": ".py",
   "mimetype": "text/x-python",
   "name": "python",
   "nbconvert_exporter": "python",
   "pygments_lexer": "ipython3",
   "version": "3.6.0"
  }
 },
 "nbformat": 4,
 "nbformat_minor": 2
}
